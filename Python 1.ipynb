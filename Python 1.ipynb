{
 "cells": [
  {
   "cell_type": "code",
   "execution_count": null,
   "metadata": {},
   "outputs": [],
   "source": [
    "#Question 2:\n",
    "\n",
    "#Given a list of numbers, create a function that removes 25% from every number in the\n",
    "#list except the smallest number, and adds the total amount removed to the smallest\n",
    "#number. \n",
    "#Example: 16, 10, 8 ➞ 12, 7.5, 14.5"
   ]
  },
  {
   "cell_type": "code",
   "execution_count": 1,
   "metadata": {},
   "outputs": [
    {
     "name": "stdout",
     "output_type": "stream",
     "text": [
      "[12.0, 7.5, 14.5]\n"
     ]
    }
   ],
   "source": [
    "def smallnum(x):\n",
    "    lowest = min(x)\n",
    "    min_index = x.index(lowest)\n",
    "    update = 0\n",
    "    small = x[min_index]\n",
    "    for i in range(len(x)):\n",
    "        update += x[i] - 0.75*x[i]\n",
    "        x[i] = 0.75*x[i]\n",
    "    x[min_index] = small + update - small*0.25\n",
    "    return x\n",
    "\n",
    "result = smallnum([16,10,8])\n",
    "print(result)\n"
   ]
  },
  {
   "cell_type": "code",
   "execution_count": null,
   "metadata": {},
   "outputs": [],
   "source": [
    "#Question No. 4:\n",
    "\n",
    "#Write a program to compute the frequency of the words from the input. "
   ]
  },
  {
   "cell_type": "code",
   "execution_count": 2,
   "metadata": {},
   "outputs": [
    {
     "name": "stdout",
     "output_type": "stream",
     "text": [
      "Enter wordshello hello hello \n",
      "Counter({'hello': 3})\n"
     ]
    }
   ],
   "source": [
    "#Method 1: Using counter\n",
    "\n",
    "from collections import Counter\n",
    "\n",
    "def frequency(x):\n",
    "        c = Counter(x)\n",
    "        d = len(x)\n",
    "        return c\n",
    "x = str(input('Enter words'))\n",
    "list = x.split()\n",
    "result = frequency(list)\n",
    "print(result)"
   ]
  },
  {
   "cell_type": "code",
   "execution_count": 107,
   "metadata": {},
   "outputs": [
    {
     "name": "stdout",
     "output_type": "stream",
     "text": [
      " Enter wordshello hello count hello test count\n",
      "count : 2\n",
      "hello : 3\n",
      "test : 1\n"
     ]
    }
   ],
   "source": [
    "#Method 2\n",
    "\n",
    "\n",
    "count_list = []\n",
    "unique = []\n",
    "def frequency(x):\n",
    "    count = 0\n",
    "    x.sort()\n",
    "    y,z = 0,0\n",
    "    n = len(x)\n",
    "    while count < n:\n",
    "        #count = 0\n",
    "        i = count\n",
    "        z = x.count(x[i])\n",
    "        count_list.append(z)\n",
    "        y = z\n",
    "        count += z\n",
    "    \n",
    "    for i in x:\n",
    "        if i not in unique:\n",
    "            unique.append(i)\n",
    "    \n",
    "    for i in range(len(count_list)):\n",
    "        n = len(count_list)\n",
    "        print(unique[i],':',count_list[i])\n",
    "\n",
    "\n",
    "x = str(input(' Enter words'))\n",
    "list = x.split()\n",
    "result = frequency(list)\n"
   ]
  },
  {
   "cell_type": "code",
   "execution_count": null,
   "metadata": {},
   "outputs": [],
   "source": [
    "#Question No. 5:\n",
    "#Write a program that reads an integer and displays all its smallest factors in increasing\n",
    "#order.\n",
    "#For example, if the input integer is 120, the output should be as follows: 2, 2, 2, 3, 5."
   ]
  },
  {
   "cell_type": "code",
   "execution_count": null,
   "metadata": {},
   "outputs": [
    {
     "name": "stdout",
     "output_type": "stream",
     "text": [
      "Enter a number120\n",
      "2\n",
      "2\n",
      "2\n",
      "3\n",
      "5\n"
     ]
    }
   ],
   "source": [
    "fist = []\n",
    "def smallFactor(x):\n",
    "    i = 2\n",
    "    while x>0:\n",
    "        if x%i==0:\n",
    "            x = x//i\n",
    "            print(i)\n",
    "        else:\n",
    "            i = i+1\n",
    "\n",
    "x = int(input('Enter a number'))\n",
    "result = smallFactor(x)\n",
    "    "
   ]
  },
  {
   "cell_type": "code",
   "execution_count": null,
   "metadata": {},
   "outputs": [],
   "source": [
    "#Question 1:\n",
    "\n",
    "#A website requires the users to input username and password to register. Write a\n",
    "#program to check the validity of password input by users. Following are the criteria for\n",
    "#checking the password:\n",
    "#1. At least 1 letter between [a-z], At least 1 letter between [A-Z]\n",
    "#2. At least 1 number between [0-9]\n",
    "#3. At least 1 character from [$#@]\n",
    "#4. Minimum length of password: 6, Maximum length of password: 12"
   ]
  },
  {
   "cell_type": "code",
   "execution_count": 57,
   "metadata": {},
   "outputs": [
    {
     "name": "stdout",
     "output_type": "stream",
     "text": [
      " Enter a passwordHello122@\n",
      "True\n"
     ]
    }
   ],
   "source": [
    "def checkPass(str):\n",
    "    count_u, count_l, count_num, count_special = 0, 0, 0, 0 \n",
    "    for i in str:\n",
    "        if i.isupper():\n",
    "            count_u += 1\n",
    "        if i.islower():\n",
    "            count_l += 1\n",
    "        if i =='0' or i =='1' or i =='2' or i =='3' or i=='4' or i=='5' or i=='6' or i=='7' or i=='8' or i =='9':\n",
    "            count_num += 1\n",
    "        if i == '$' or i == '#' or i == '@':\n",
    "            count_special += 1\n",
    "            \n",
    "    if len(str) > 5 and len(str)<13 and count_num>0 and count_special>0:\n",
    "        return True\n",
    "    else:\n",
    "        return False\n",
    "    \n",
    "x = input(' Enter a password')\n",
    "result = checkPass(x)\n",
    "print(result)"
   ]
  },
  {
   "cell_type": "code",
   "execution_count": null,
   "metadata": {},
   "outputs": [],
   "source": [
    "#Question 3:\n",
    "#You are in the midst of organizing all of your coding projects. It's a mess! Every file\n",
    "#you've ever created is located in the same folder. To clean it up, you've decided that you\n",
    "#will use one of two organization methods. \n",
    "\n",
    "#The prefix method: You will group all files with the same project name under the same folder.\n",
    "\n",
    "#The suffix method: You will group all files with the same extension under the same folder.\n",
    "\n",
    "#Create a program that takes in the current folder sorts the files according to the\n",
    "#organization method (prefix or suffix). A folder is a grouping of files in the same list."
   ]
  },
  {
   "cell_type": "code",
   "execution_count": 106,
   "metadata": {},
   "outputs": [
    {
     "name": "stdout",
     "output_type": "stream",
     "text": [
      "Sorted by Prefix:  [['music_app', 'js'], ['music_app', 'png'], ['music_app', 'wav'], ['tetris', 'js'], ['tetris', 'png']]\n",
      "Sorted by Suffix:  [['js', 'music_app'], ['js', 'tetris'], ['png', 'music_app'], ['png', 'tetris'], ['wav', 'music_app']]\n"
     ]
    }
   ],
   "source": [
    "list = []\n",
    "list_prefix_new = []\n",
    "def category(x):\n",
    "    temp = 0\n",
    "    for i in x:\n",
    "        z = i.split('.')\n",
    "        list.append(z)\n",
    "        \n",
    "    #prefix:\n",
    "    list_prefix = sorted(list)\n",
    "    print(\"Sorted by Prefix: \",list_prefix)\n",
    "    \n",
    "    #suffix:\n",
    "    list_suffix = sorted(list)\n",
    "    for j in range(len(list_suffix)):\n",
    "        temp = list_suffix[j][0]\n",
    "        list_suffix[j][0] = list_suffix[j][1]\n",
    "        list_suffix[j][1] = temp\n",
    "    list_suffix.sort()\n",
    "    \n",
    "    print(\"Sorted by Suffix: \",list_suffix)\n",
    "    \n",
    "    \n",
    "    #return list_prefix\n",
    "    #return list_suffix\n",
    "    \n",
    "    \n",
    "y = ['music_app.js', 'music_app.png', 'music_app.wav', 'tetris.png', 'tetris.js']\n",
    "#z = y.split('.')\n",
    "result = category(y)\n",
    "    "
   ]
  },
  {
   "cell_type": "code",
   "execution_count": null,
   "metadata": {},
   "outputs": [],
   "source": []
  }
 ],
 "metadata": {
  "kernelspec": {
   "display_name": "Python 3",
   "language": "python",
   "name": "python3"
  },
  "language_info": {
   "codemirror_mode": {
    "name": "ipython",
    "version": 3
   },
   "file_extension": ".py",
   "mimetype": "text/x-python",
   "name": "python",
   "nbconvert_exporter": "python",
   "pygments_lexer": "ipython3",
   "version": "3.8.3"
  }
 },
 "nbformat": 4,
 "nbformat_minor": 4
}
