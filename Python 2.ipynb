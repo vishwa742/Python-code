{
 "cells": [
  {
   "cell_type": "code",
   "execution_count": null,
   "metadata": {},
   "outputs": [],
   "source": [
    "#Question 3 \n",
    "#Print the following pattern:\n",
    "\n",
    "\\******/\n",
    "*\\****/*\n",
    "**\\**/**\n",
    "***\\/***\n",
    "**/**\\**\n",
    "*/****\\*\n",
    "/******\\"
   ]
  },
  {
   "cell_type": "code",
   "execution_count": 25,
   "metadata": {},
   "outputs": [
    {
     "name": "stdout",
     "output_type": "stream",
     "text": [
      "/ * * * * * * /  \n",
      "* / * * * * / *  \n",
      "* * / * * / * *  \n",
      "* * * / / * * *  \n",
      "* * / * * / * *  \n",
      "* / * * * * / *  \n",
      "/ * * * * * * /  \n"
     ]
    }
   ],
   "source": [
    "for i in range(4):\n",
    "    for j in range(8):\n",
    "        if i == j or i+j == 7:\n",
    "            print('/', end =\" \")\n",
    "        else:\n",
    "            print('*', end =\" \")\n",
    "    print(' ')\n",
    "for i in range(4,7):\n",
    "    for j in range(8):\n",
    "        if i+j == 6 or i == j-1:\n",
    "            print('/', end =\" \")\n",
    "        else:\n",
    "            print('*',end = \" \")\n",
    "    print(' ')\n",
    "\n",
    "                \n"
   ]
  },
  {
   "cell_type": "code",
   "execution_count": 29,
   "metadata": {},
   "outputs": [
    {
     "name": "stdout",
     "output_type": "stream",
     "text": [
      "Enter a stringWRONG\n",
      "Good\n"
     ]
    }
   ],
   "source": [
    "#Question 5\n",
    "#Write Python code to check if all letters of the word are distinct, the output is good otherwise\n",
    "#bad.: e.g. START, GOOD, BETTER are bad: WRONG is good! Make the comparison to be case\n",
    "#insensitive.\n",
    "\n",
    "#Method 1\n",
    "\n",
    "list = []\n",
    "new_list = []\n",
    "def checkUnique(str):\n",
    "    for i in str:\n",
    "        list.append(i)\n",
    "\n",
    "    for i in list:\n",
    "        if i not in new_list:\n",
    "            new_list.append(i)\n",
    "    \n",
    "    if len(list) == len(new_list):\n",
    "        return('Good')\n",
    "    else:\n",
    "        return('Bad')\n",
    "    \n",
    "x = input('Enter a string ')\n",
    "result = checkUnique(x)\n",
    "print(result)"
   ]
  },
  {
   "cell_type": "code",
   "execution_count": 33,
   "metadata": {},
   "outputs": [
    {
     "name": "stdout",
     "output_type": "stream",
     "text": [
      "Enter a stringSTART\n",
      "Bad\n"
     ]
    }
   ],
   "source": [
    "#Method 2\n",
    "\n",
    "list = []\n",
    "new_list = []\n",
    "def checkUnique(str):\n",
    "    for i in str:\n",
    "        list.append(i)\n",
    "    new_list = set(list)\n",
    "\n",
    "    if len(list) == len(new_list):\n",
    "        return('Good')\n",
    "    else:\n",
    "        return('Bad')\n",
    "    \n",
    "x = input('Enter a string ')\n",
    "result = checkUnique(x)\n",
    "print(result)"
   ]
  },
  {
   "cell_type": "code",
   "execution_count": null,
   "metadata": {},
   "outputs": [],
   "source": [
    "#Question 6\n",
    "#Numeric addresses for computers on the international network Internet are composed of four\n",
    "#parts, separated by periods, of the form xx.yy.zz.mm where xx , yy , zz , and mm are\n",
    "#positive integers.\n",
    "\n",
    "#A pair of computers are said to be in same locality when the first two components of the addresses\n",
    "#are same. Given the IP addresses of ‘n’ computers, write python code to identify the pair of\n",
    "#computers from the same locality."
   ]
  },
  {
   "cell_type": "code",
   "execution_count": 45,
   "metadata": {},
   "outputs": [
    {
     "name": "stdout",
     "output_type": "stream",
     "text": [
      "('The computers from the same locality have IP addresses :', ['111', '22', '3', '44'], ['111', '22', '5', '66'])\n"
     ]
    }
   ],
   "source": [
    "list = []\n",
    "def address(x):\n",
    "    temp = 0\n",
    "    for i in x:\n",
    "        z = i.split('.')\n",
    "        list.append(z)\n",
    "    list.sort()\n",
    "    #return list\n",
    "    for i in range(len(list)-1):\n",
    "        if list[i][0] == list[i+1][0] and list[i][1] == list[i+1][1]:\n",
    "           return('The computers from the same locality have IP addresses :',list[i],list[i+1])\n",
    "    \n",
    "y = ['111.22.3.44','555.66.7.88','111.22.5.66','0.0.0.0']\n",
    "result = address(y)\n",
    "print(result)"
   ]
  },
  {
   "cell_type": "code",
   "execution_count": null,
   "metadata": {},
   "outputs": [],
   "source": [
    "#Question 8 \n",
    "#Consograms are words or sentences that has every consonant( letters other than a,e,i,o,u) of the\n",
    "#English alphabet occurring at least once. Write an algorithm and a subsequent Python code to\n",
    "#check whether a string is a consogram or not. Write a function to check if a given string is a\n",
    "#consogram. For example,”\"The quick brown fox jumps over the lazy dog\"\" is a consogram."
   ]
  },
  {
   "cell_type": "code",
   "execution_count": 65,
   "metadata": {},
   "outputs": [
    {
     "name": "stdout",
     "output_type": "stream",
     "text": [
      "Consogram\n"
     ]
    }
   ],
   "source": [
    "def checkvowel(x):\n",
    "    list_new = []\n",
    "    alp_count, vowel_count = 0, 0\n",
    "    y = set(x)\n",
    "    for i in y:\n",
    "        if i.isupper() or i.islower():\n",
    "            alp_count += 1\n",
    "        if i == 'a' or i == 'e' or i == 'i' or i == 'o' or i == 'u':\n",
    "            vowel_count += 1\n",
    "    alp_count -= 1\n",
    "    extra = len(y) - alp_count\n",
    "    \n",
    "    if len(y) - extra - vowel_count == 21:\n",
    "        print('Consogram')\n",
    "    else:\n",
    "        print('Not Consogram')\n",
    "    \n",
    "    \n",
    "    \n",
    "str = 'The quick brown fox jumps over the lazy dog'\n",
    "result = checkvowel(str)"
   ]
  },
  {
   "cell_type": "code",
   "execution_count": null,
   "metadata": {},
   "outputs": [],
   "source": [
    "#Question 2\n",
    "#Print the following pattern:\n",
    "     A\n",
    "    BAB\n",
    "   CBABC\n",
    "  DCBABCD\n",
    " EDCBABCDE"
   ]
  },
  {
   "cell_type": "code",
   "execution_count": 111,
   "metadata": {},
   "outputs": [
    {
     "name": "stdout",
     "output_type": "stream",
     "text": [
      "        A          \n",
      "      B B B        \n",
      "    C C C C C      \n",
      "  D D D D D D D    \n",
      "E E E E E E E E E  \n"
     ]
    }
   ],
   "source": [
    "#Upper left:i+j<=3\n",
    "#Upper Right: j>4 and j-1>=5\n",
    "list = ['A','B','C','D','E']\n",
    "for i in range(5):\n",
    "    for j in range(9):\n",
    "        if i+j <= 3 or (j > 4 and j-i>=5):\n",
    "            print(' ',end=' ')\n",
    "        else:\n",
    "            print(list[i],end=' ')\n",
    "    print(' ')"
   ]
  },
  {
   "cell_type": "code",
   "execution_count": 97,
   "metadata": {},
   "outputs": [],
   "source": [
    "#Question 4\n",
    "#Write an algorithm and write the Python code to count the number of unique words in a given\n",
    "#passage. The paragraph may contain words with special characters such as ‘!’, ‘?’, ‘.’, ‘,’ , ‘:’ and ‘;’ and\n",
    "#digits are not permitted. Special character must occur only at the end of a word in a passage that is\n",
    "#Hello World! is valid but Hello !World or Hello Wor!ld is invalid. No two special character occur\n",
    "#together. Print ‘Invalid input’ for such cases. Count words without special characters. Counting must\n",
    "#be case insensitive. Print words in lower case and in sorted order."
   ]
  },
  {
   "cell_type": "code",
   "execution_count": 104,
   "metadata": {},
   "outputs": [
    {
     "name": "stdout",
     "output_type": "stream",
     "text": [
      "Counter({'programming': 2, 'a': 1, 'are': 1, 'assets': 1, 'bankable': 1, 'demand!': 1, 'in': 1, 'is': 1, 'skill': 1, 'skills': 1})\n"
     ]
    }
   ],
   "source": [
    "list = []\n",
    "from collections import Counter\n",
    "def countUnique(str):\n",
    "    #str.lower()\n",
    "    list = str.lower().split()\n",
    "    list.sort()\n",
    "    for i in list:\n",
    "        if i.isnumeric():\n",
    "            print('Not valid')\n",
    "        for z in i:\n",
    "            if z == '!' or z == '?' or z == '.' or z == ',' or z == ':' or z == ';':\n",
    "                list.pop()\n",
    "    x = Counter(list)\n",
    "    print(x)\n",
    "\n",
    "str='Programming is a skill in demand! Your programming skills are bankable assets'\n",
    "result = countUnique(str)"
   ]
  },
  {
   "cell_type": "code",
   "execution_count": null,
   "metadata": {},
   "outputs": [],
   "source": [
    "# Question 7\n",
    "#Find the sum of the bounded values of a specific value in a given a R x C matrix.\n",
    "#If given input is\n",
    "#4 3 7 10\n",
    "#12 17 19 21\n",
    "#8 1 28 65\n",
    "#34 39 41 40\n",
    "#73 20 50 70\n",
    "# And search value is 28, then the output should be 243 ( 17+19+21+65+40+41++39+1)"
   ]
  },
  {
   "cell_type": "code",
   "execution_count": 128,
   "metadata": {},
   "outputs": [
    {
     "name": "stdout",
     "output_type": "stream",
     "text": [
      "243\n"
     ]
    }
   ],
   "source": [
    "def boundedSum(mat,search):\n",
    "    sum = 0\n",
    "    #index_1,index_2 = mat.index(search)\n",
    "    \n",
    "   
    "    \n",
    "    index_1,index_2 = 2,2\n",
    "    for i in range(index_1-1,index_1+2):\n",
    "        for j in range(index_2-1,index_2+2):\n",
    "            sum+= mat[i][j]\n",
    "    return(sum-search)\n",
    "    \n",
    "mat =   [[4, 3, 7, 10],[12, 17, 19, 21],[8, 1, 28, 65],[34, 39, 41, 40],[73, 20, 50, 70]]\n",
    "result = boundedSum(mat,28)\n",
    "print(result)"
   ]
  },
  {
   "cell_type": "code",
   "execution_count": null,
   "metadata": {},
   "outputs": [],
   "source": []
  }
 ],
 "metadata": {
  "kernelspec": {
   "display_name": "Python 3",
   "language": "python",
   "name": "python3"
  },
  "language_info": {
   "codemirror_mode": {
    "name": "ipython",
    "version": 3
   },
   "file_extension": ".py",
   "mimetype": "text/x-python",
   "name": "python",
   "nbconvert_exporter": "python",
   "pygments_lexer": "ipython3",
   "version": "3.8.3"
  }
 },
 "nbformat": 4,
 "nbformat_minor": 4
}
